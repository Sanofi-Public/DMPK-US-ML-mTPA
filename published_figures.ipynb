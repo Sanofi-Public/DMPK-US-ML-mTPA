{
 "cells": [
  {
   "cell_type": "code",
   "execution_count": 2,
   "id": "c224f30f-df99-4843-85f2-bba2c13f045e",
   "metadata": {},
   "outputs": [],
   "source": [
    "import datetime\n",
    "import pandas as pd\n",
    "import numpy as np\n",
    "import sklearn #1.2.2\n",
    "import matplotlib.pyplot as plt\n",
    "from sklearn.model_selection import train_test_split\n",
    "from sklearn.model_selection import StratifiedKFold, cross_val_score, KFold\n",
    "from sklearn.preprocessing import LabelEncoder, OneHotEncoder\n",
    "from sklearn.tree import DecisionTreeClassifier\n",
    "from sklearn.metrics import confusion_matrix,classification_report,roc_curve,auc, accuracy_score, f1_score, precision_score\n",
    "from sklearn import model_selection\n",
    "from sklearn import tree\n",
    "from sklearn.utils import resample\n",
    "from joblib import dump, load\n",
    "import pickle\n",
    "import time\n",
    "import seaborn as sns\n",
    "from sklearn.model_selection import GridSearchCV\n",
    "from sklearn.ensemble import RandomForestClassifier\n",
    "from sklearn.ensemble import GradientBoostingClassifier\n",
    "from imblearn.over_sampling import SMOTE "
   ]
  },
  {
   "cell_type": "code",
   "execution_count": null,
   "id": "88c7e0cf-3e9c-4dd8-995c-7099a14927f4",
   "metadata": {},
   "outputs": [],
   "source": [
    "import warnings\n",
    "warnings.filterwarnings(\"ignore\")"
   ]
  },
  {
   "cell_type": "markdown",
   "id": "613b13ee-3fec-4d1d-a540-256d7c467cae",
   "metadata": {},
   "source": [
    "# Figures"
   ]
  },
  {
   "cell_type": "markdown",
   "id": "55195ca8-de77-49d5-af62-2a03c4befc67",
   "metadata": {},
   "source": [
    "# Effect of site of action"
   ]
  },
  {
   "cell_type": "code",
   "execution_count": null,
   "id": "15189ee3-2ec9-41b3-a28f-f2280e7aece6",
   "metadata": {},
   "outputs": [],
   "source": [
    "df_siteL = pd.read_csv('results/TestvPred1mgpkg_q2w_Tm_2last_10000.csv')\n",
    "df_siteL['site'] = 'Leaky'\n",
    "df_siteT = pd.read_csv('results/TestvPred1mgpkg_q2w_Tm_1last_10000.csv')\n",
    "df_siteT['site'] = 'Tight'\n",
    "df_siteP = pd.read_csv('results/TestvPred1mgpkg_q2w_Tm_plast_10000.csv')\n",
    "df_siteP['site'] = 'Plasma'\n",
    "\n",
    "df_site = pd.concat([df_siteP, df_siteL, df_siteT])\n",
    "df_site = df_site[df_site.y_pred==1]\n",
    "df_site = df_site.drop(columns=['Unnamed: 0'])\n",
    "df_site = df_site.rename(columns={'T0': 'Baseline (nM)', 'thalf':'Half Life, $t_{1/2}$ (hr)', 'KD':'Binding constant, $K_D$ (nM)'})\n",
    "print(df_site.head(5))\n",
    "\n",
    "# site of action\n",
    "fig5 = plt.figure(figsize =(12,12))\n",
    "\n",
    "for pairidx, pair in enumerate([['Baseline (nM)', 'Half Life, $t_{1/2}$ (hr)'], ['Baseline (nM)',  'Binding constant, $K_D$ (nM)'], ['Half Life, $t_{1/2}$ (hr)',  'Binding constant, $K_D$ (nM)']]): #\n",
    "    \n",
    "    sns.set_theme(rc={\"xtick.bottom\" : True, \"ytick.left\" : True})\n",
    "    ax = plt.subplot(3, 3, pairidx + 1)\n",
    "    plt.tight_layout(h_pad=0.5, w_pad=0.25, pad=0.5)\n",
    "    gpx = sns.kdeplot(data=df_site[pair], x=pair[0], y=pair[1], hue=df_site['site'], hue_order = ['Leaky', 'Plasma', 'Tight'], palette=\"Dark2\", alpha=0.78, fill=True, log_scale=True)\n",
    "    #gpx.set_xscale('log')\n",
    "    #gpx.set_yscale('log')\n",
    "    gpx.set_ylim([min(df_site[pair[1]])-100, max(df_site[pair[1]]) + 10000])\n",
    "    gpx.set_xlim([min(df_site[pair[0]])-100, max(df_site[pair[0]]) + 10000])\n",
    "    gpx.set_xlabel(pair[0])\n",
    "    gpx.set_ylabel(pair[1])\n",
    "    ax.get_legend().set_visible(False)\n",
    "\n",
    "ax.get_legend().set_visible(True)\n",
    "plt.show()\n",
    "# fig5.savefig('results/1mgpkg_q2w_Ts_SoA.jpeg', dpi=300)\n"
   ]
  },
  {
   "cell_type": "markdown",
   "id": "63ac6f6c-0a65-4f22-a7a3-3a2f2e7254fa",
   "metadata": {},
   "source": [
    "# Effect of soluble or membrane bound receptor"
   ]
  },
  {
   "cell_type": "code",
   "execution_count": null,
   "id": "235e494b-3ad1-4e31-adc7-83ec4a0073f9",
   "metadata": {},
   "outputs": [],
   "source": [
    "df_Ts = pd.read_csv('results/TestvPred1mgpkg_q2w_Ts_2last_10000.csv')\n",
    "df_Ts['Form'] = 'soluble'\n",
    "df_Tm = pd.read_csv('results/TestvPred1mgpkg_q2w_Tm_2last_10000.csv')\n",
    "df_Tm['Form'] = 'membrane-bound'\n",
    "\n",
    "df_form = pd.concat([df_Ts, df_Tm])\n",
    "df_form = df_form[df_form.y_pred==1]\n",
    "df_form = df_form.drop(columns=['Unnamed: 0'])\n",
    "df_form = df_form.rename(columns={'T0': 'Baseline (nM)', 'thalf':'Half Life, $t_{1/2}$ (hr)', 'KD':'Binding constant, $K_D$ (nM)'})\n",
    "print(df_form.head(5))\n",
    "\n",
    "fig6 = plt.figure(figsize =(12,12))\n",
    "\n",
    "for pairidx, pair in enumerate([['Baseline (nM)', 'Half Life, $t_{1/2}$ (hr)'], ['Baseline (nM)',  'Binding constant, $K_D$ (nM)'], ['Half Life, $t_{1/2}$ (hr)',  'Binding constant, $K_D$ (nM)']]): #\n",
    "    \n",
    "    sns.set_theme(rc={\"xtick.bottom\" : True, \"ytick.left\" : True})\n",
    "    ax = plt.subplot(3, 3, pairidx + 1)\n",
    "    plt.tight_layout(h_pad=0.5, w_pad=0.25, pad=0.5)\n",
    "    \n",
    "    gpx = sns.kdeplot(data=df_form[pair], x=pair[0], y=pair[1], hue=df_form['Form'], palette='Dark2', hue_order = ['soluble', 'membrane-bound'], alpha=0.75, fill=True, log_scale=True)\n",
    "    #gpx.set_xscale(\"log\")\n",
    "    #gpx.set_yscale(\"log\")\n",
    "    gpx.set_ylim([min(df_form[pair[1]])-100, max(df_form[pair[1]]) + 10000])\n",
    "    gpx.set_xlim([min(df_form[pair[0]])-100, max(df_form[pair[0]]) + 10000])\n",
    "    gpx.set_xlabel(pair[0])\n",
    "    gpx.set_ylabel(pair[1])\n",
    "    ax.get_legend().set_visible(True)\n",
    "\n",
    "ax.get_legend().set_visible(True)\n",
    "plt.show()\n",
    "#fig6.savefig('results/1mgpkg_q2w_2min_receptor_form.jpeg', dpi=300)"
   ]
  },
  {
   "cell_type": "markdown",
   "id": "5c9a6a61-f79c-4f22-8a1d-1873b22184a1",
   "metadata": {},
   "source": [
    "# Dose dependence"
   ]
  },
  {
   "cell_type": "code",
   "execution_count": null,
   "id": "c44addc6-9756-414e-9aec-ccbc4ca4c975",
   "metadata": {},
   "outputs": [],
   "source": [
    "df_p1 = pd.read_csv('results/TestvPred0.1mgpkg_q2w_Ts_plast_10000.csv')\n",
    "df_p1['Dose (mg/kg)'] = 0.1\n",
    "df_1 = pd.read_csv('results/TestvPred1mgpkg_q2w_Ts_plast_10000.csv')\n",
    "df_1['Dose (mg/kg)'] = 1\n",
    "df_10 = pd.read_csv('results/TestvPred10mgpkg_q2w_Ts_plast_10000.csv')\n",
    "df_10['Dose (mg/kg)'] = 10\n",
    "\n",
    "\n",
    "df_dose = pd.concat([df_p1, df_1, df_10])\n",
    "df_dose = df_dose[df_dose.y_pred==1]\n",
    "df_dose = df_dose.drop(columns=['Unnamed: 0'])\n",
    "df_dose = df_dose.rename(columns={'T0': 'Baseline (nM)', 'thalf':'Half Life, $t_{1/2}$ (hr)', 'KD':'Binding constant, $K_D$ (nM)'})\n",
    "\n",
    "fig7 = plt.figure(figsize =(12,12))\n",
    "\n",
    "for pairidx, pair in enumerate([['Baseline (nM)', 'Half Life, $t_{1/2}$ (hr)'], ['Baseline (nM)',  'Binding constant, $K_D$ (nM)'], ['Half Life, $t_{1/2}$ (hr)',  'Binding constant, $K_D$ (nM)']]): #\n",
    "    \n",
    "    sns.set_theme(rc={\"xtick.bottom\" : True, \"ytick.left\" : True})\n",
    "    ax = plt.subplot(3, 3, pairidx + 1)\n",
    "    plt.tight_layout(h_pad=0.5, w_pad=0.25, pad=0.5)\n",
    "    \n",
    "    gpx = sns.kdeplot(data=df_dose[pair], x=pair[0], y=pair[1], hue=df_dose['Dose (mg/kg)'], palette='Dark2', hue_order = [10, 1, 0.1], alpha=0.75, fill=True, log_scale=True)\n",
    "    gpx.set_ylim([min(df_dose[pair[1]])-100, max(df_dose[pair[1]]) + 10000])\n",
    "    gpx.set_xlim([min(df_dose[pair[0]])-100, max(df_dose[pair[0]]) + 10000])\n",
    "    gpx.set_xlabel(pair[0])\n",
    "    gpx.set_ylabel(pair[1])\n",
    "    ax.get_legend().set_visible(True)\n",
    "\n",
    "ax.get_legend().set_visible(True)\n",
    "plt.show()\n",
    "# fig7.savefig('results/q2w_plast_dose.jpeg', dpi=300)"
   ]
  },
  {
   "cell_type": "markdown",
   "id": "85fddde2-7af4-4cab-9a66-f1c882f41959",
   "metadata": {},
   "source": [
    "# Dosing scheme (q1w, q2w, q4w)\n"
   ]
  },
  {
   "cell_type": "code",
   "execution_count": null,
   "id": "c59d2a9d-d106-401d-a058-8099fcfc99e9",
   "metadata": {},
   "outputs": [],
   "source": [
    "# dosing scheme (q1w, q2w, q4w)\n",
    "df_q1w = pd.read_csv('results/TestvPred1mgpkg_q1w_Ts_plast_10000.csv')\n",
    "df_q1w['Dosing Regimen'] = 'q1w'\n",
    "df_q2w = pd.read_csv('results/TestvPred1mgpkg_q2w_Ts_plast_10000.csv')\n",
    "df_q2w['Dosing Regimen'] = 'q2w'\n",
    "df_q4w = pd.read_csv('results/TestvPred1mgpkg_q4w_Ts_plast_10000.csv')\n",
    "df_q4w['Dosing Regimen'] = 'q4w'\n",
    "\n",
    "\n",
    "df_reg = pd.concat([df_q1w, df_q2w, df_q4w])\n",
    "df_reg = df_reg[df_reg.y_pred==1]\n",
    "df_reg = df_reg.drop(columns=['Unnamed: 0'])\n",
    "df_reg = df_reg.rename(columns={'T0': 'Baseline (nM)', 'thalf':'Half Life, $t_{1/2}$ (hr)', 'KD':'Binding constant, $K_D$ (nM)'})\n",
    "\n",
    "fig8 = plt.figure(figsize =(12,12))\n",
    "\n",
    "for pairidx, pair in enumerate([['Baseline (nM)', 'Half Life, $t_{1/2}$ (hr)'], ['Baseline (nM)',  'Binding constant, $K_D$ (nM)'], ['Half Life, $t_{1/2}$ (hr)',  'Binding constant, $K_D$ (nM)']]): #\n",
    "    \n",
    "    sns.set_theme(rc={\"xtick.bottom\" : True, \"ytick.left\" : True})\n",
    "    ax = plt.subplot(3, 3, pairidx + 1)\n",
    "    plt.tight_layout(h_pad=0.5, w_pad=0.25, pad=0.5)\n",
    "    \n",
    "    gpx = sns.kdeplot(data=df_reg[pair], x=pair[0], y=pair[1], hue=df_reg['Dosing Regimen'], palette='Dark2', hue_order = ['q1w', 'q2w', 'q4w'], alpha=0.75, fill=True, log_scale=True)\n",
    "    #gpx.set_xscale(\"log\")\n",
    "    #gpx.set_yscale(\"log\")\n",
    "    gpx.set_ylim([min(df_reg[pair[1]])-100, max(df_reg[pair[1]]) + 10000])\n",
    "    gpx.set_xlim([min(df_reg[pair[0]])-100, max(df_reg[pair[0]]) + 10000])\n",
    "    gpx.set_xlabel(pair[0])\n",
    "    gpx.set_ylabel(pair[1])\n",
    "    ax.get_legend().set_visible(True)\n",
    "\n",
    "ax.get_legend().set_visible(True)\n",
    "plt.show()\n",
    "#fig8.savefig('results/1mgpkg_plast_dosing_reg.jpeg', dpi=300)"
   ]
  },
  {
   "cell_type": "markdown",
   "id": "2411582f-dcdd-46a6-a429-7cfe2109c383",
   "metadata": {},
   "source": [
    "# Charge-dependence  (-5, 0, +5)\n"
   ]
  },
  {
   "cell_type": "code",
   "execution_count": null,
   "id": "bb58c69b-f987-494d-8fb3-f6605ef92cbe",
   "metadata": {},
   "outputs": [],
   "source": [
    "# charge-dependence  (-5, 0, +5)\n",
    "df_p5 = pd.read_csv('results/TestvPred1mgpkg_+5_q2w_Ts_plast_10000.csv')\n",
    "df_p5['Charge'] = '+5'\n",
    "df_m5 = pd.read_csv('results/TestvPred1mgpkg_-5_q2w_Ts_plast_10000.csv')\n",
    "df_m5['Charge'] = '-5'\n",
    "df_nt = pd.read_csv('results/TestvPred1mgpkg_q2w_Ts_plast_10000.csv')\n",
    "df_nt['Charge'] = '0'\n",
    "\n",
    "df_charge = pd.concat([df_p5, df_m5, df_nt])\n",
    "df_charge = df_charge[df_charge.y_pred==1]\n",
    "df_charge = df_charge.drop(columns=['Unnamed: 0'])\n",
    "df_charge = df_charge.rename(columns={'T0': 'Baseline (nM)', 'thalf':'Half Life, $t_{1/2}$ (hr)', 'KD':'Binding constant, $K_D$ (nM)'})\n",
    "\n",
    "fig9 = plt.figure(figsize =(12,12))\n",
    "\n",
    "for pairidx, pair in enumerate([['Baseline (nM)', 'Half Life, $t_{1/2}$ (hr)'], ['Baseline (nM)',  'Binding constant, $K_D$ (nM)'], ['Half Life, $t_{1/2}$ (hr)',  'Binding constant, $K_D$ (nM)']]): #\n",
    "    \n",
    "    sns.set_theme(rc={\"xtick.bottom\" : True, \"ytick.left\" : True})\n",
    "    ax = plt.subplot(3, 3, pairidx + 1)\n",
    "    plt.tight_layout(h_pad=0.5, w_pad=0.25, pad=0.5)\n",
    "    \n",
    "    gpx = sns.kdeplot(data=df_charge[pair], x=pair[0], y=pair[1], hue=df_charge['Charge'], palette='Dark2', hue_order = ['-5', '0', '+5'], alpha=0.68, fill=True, log_scale=True)\n",
    "    \n",
    "    gpx.set_ylim([min(df_charge[pair[1]])-100, max(df_charge[pair[1]]) + 10000])\n",
    "    gpx.set_xlim([min(df_charge[pair[0]])-100, max(df_charge[pair[0]]) + 10000])\n",
    "    gpx.set_xlabel(pair[0])\n",
    "    gpx.set_ylabel(pair[1])\n",
    "    ax.get_legend().set_visible(False)\n",
    "\n",
    "ax.get_legend().set_visible(True)\n",
    "plt.show()\n",
    "# fig9.savefig('results/1mgpkg_plast_charge.jpeg', dpi=300)"
   ]
  },
  {
   "cell_type": "markdown",
   "id": "f0a19893-d9c8-48ec-8c99-7a8a32c93ee3",
   "metadata": {},
   "source": [
    "# 1 mg/kg Q4W scenario for validation"
   ]
  },
  {
   "cell_type": "code",
   "execution_count": 14,
   "id": "434b322f-677f-4712-bbcd-4c7d704d0293",
   "metadata": {},
   "outputs": [
    {
     "data": {
      "image/png": "[encoded data removed]",
      "text/plain": [
       "<Figure size 1200x1200 with 1 Axes>"
      ]
     },
     "metadata": {},
     "output_type": "display_data"
    }
   ],
   "source": [
    "# dosing scheme (q1w, q2w, q4w)\n",
    "\n",
    "df_q4w = pd.read_csv('results/TestvPred1mgpkg_q4w_Ts_plast_10000.csv')\n",
    "df_q4w['Dosing Regimen'] = 'q4w'\n",
    "\n",
    "\n",
    "df_reg = pd.concat([df_q4w])\n",
    "df_reg = df_reg[df_reg.y_pred==1]\n",
    "df_reg = df_reg.drop(columns=['Unnamed: 0'])\n",
    "df_reg = df_reg.rename(columns={'T0': 'Baseline (nM)', 'thalf':'Half Life, $t_{1/2}$ (hr)', 'KD':'Binding constant, $K_D$ (nM)'})\n",
    "\n",
    "fig9 = plt.figure(figsize =(12,12))\n",
    "\n",
    "for pairidx, pair in enumerate([['Baseline (nM)',  'Binding constant, $K_D$ (nM)']]): # ['Half Life, $t_{1/2}$ (hr)',  'Binding constant, $K_D$ (nM)']\n",
    "    \n",
    "    sns.set_theme(rc={\"xtick.bottom\" : True, \"ytick.left\" : True})\n",
    "    ax = plt.subplot(1, 1, pairidx + 1)\n",
    "    plt.tight_layout(h_pad=0.5, w_pad=0.25, pad=0.5)\n",
    "    \n",
    "    gpx = sns.kdeplot(data=df_reg[pair], x=pair[0], y=pair[1], hue=df_reg['y_pred'], alpha=0.75, fill=True, log_scale=True)\n",
    "    #gpx.set_xscale(\"log\")\n",
    "    #gpx.set_yscale(\"log\")\n",
    "    gpx.set_xlabel(pair[0])\n",
    "    gpx.set_ylabel(pair[1])\n",
    "    ax.get_legend().set_visible(False)\n",
    "    plt.scatter([0.0013, 0.327], [0.0068, 0.12], color=['brown', 'black'])\n",
    "\n",
    "plt.show()\n",
    "\n",
    "fig9.savefig('results/1mgpkg_Q4W_val1.jpeg', dpi=300)\n",
    "\n",
    "fig10 = plt.figure(figsize =(12,12))\n",
    "\n",
    "for pairidx, pair in enumerate([['Half Life, $t_{1/2}$ (hr)',  'Binding constant, $K_D$ (nM)']]): # \n",
    "    \n",
    "    sns.set_theme(rc={\"xtick.bottom\" : True, \"ytick.left\" : True})\n",
    "    ax = plt.subplot(1, 1, pairidx + 1)\n",
    "    plt.tight_layout(h_pad=0.5, w_pad=0.25, pad=0.5)\n",
    "    \n",
    "    gpx = sns.kdeplot(data=df_reg[pair], x=pair[0], y=pair[1], hue=df_reg['y_pred'], alpha=0.75, fill=True, log_scale=True)\n",
    "    #gpx.set_xscale(\"log\")\n",
    "    #gpx.set_yscale(\"log\")\n",
    "    gpx.set_xlabel(pair[0])\n",
    "    gpx.set_ylabel(pair[1])\n",
    "    ax.get_legend().set_visible(False)\n",
    "    plt.scatter([0.25, 0.5], [0.0068, 0.12], color=['brown', 'black'])\n",
    "\n",
    "plt.show()\n",
    "fig10.savefig('results/1mgpkg_Q4W_val2.jpeg', dpi=300)\n"
   ]
  },
  {
   "cell_type": "code",
   "execution_count": null,
   "id": "dfbbee14-8fb7-4a20-a2d4-9357c4e3e921",
   "metadata": {},
   "outputs": [],
   "source": []
  }
 ],
 "metadata": {
  "kernelspec": {
   "display_name": "squidpy-env",
   "language": "python",
   "name": "squidpy-env"
  },
  "language_info": {
   "codemirror_mode": {
    "name": "ipython",
    "version": 3
   },
   "file_extension": ".py",
   "mimetype": "text/x-python",
   "name": "python",
   "nbconvert_exporter": "python",
   "pygments_lexer": "ipython3",
   "version": "3.8.3"
  }
 },
 "nbformat": 4,
 "nbformat_minor": 5
}
